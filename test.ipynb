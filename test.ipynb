{
 "cells": [
  {
   "cell_type": "code",
   "execution_count": 16,
   "metadata": {},
   "outputs": [],
   "source": [
    "from lumibot.brokers import Alpaca\n",
    "from lumibot.backtesting import YahooDataBacktesting\n",
    "from lumibot.strategies.strategy import Strategy\n",
    "from lumibot.traders import Trader\n",
    "from alpaca_trade_api import REST\n",
    "from timedelta import Timedelta\n",
    "from datetime import datetime\n",
    "from dotenv import load_dotenv\n",
    "import os\n",
    "from finbert_utils import estimate_sentiment\n",
    "\n",
    "load_dotenv()  # take environment variables from .env.\n",
    "# Retrieve API key and secret from environment variables\n",
    "API_KEY = os.getenv(\"API_KEY\")\n",
    "API_SECRET = os.getenv(\"API_SECRET\")"
   ]
  },
  {
   "cell_type": "code",
   "execution_count": 2,
   "metadata": {},
   "outputs": [],
   "source": [
    "ALPACA_CREDS = {\"API_KEY\": API_KEY, \"API_SECRET\": API_SECRET, \"PAPER\": True}\n",
    "BASE_URL = \"https://paper-api.alpaca.markets\""
   ]
  },
  {
   "cell_type": "code",
   "execution_count": 20,
   "metadata": {},
   "outputs": [],
   "source": [
    "class MLTrader(Strategy):\n",
    "    def initialize(self, symbol: str = \"SPY\", cash_at_risk: float = 0.5):\n",
    "        self.symbol = symbol\n",
    "        self.sleeptime = \"24H\"\n",
    "        self.last_trade = None\n",
    "        self.cash_at_risk = cash_at_risk\n",
    "        self.api = REST(base_url=BASE_URL, key_id=API_KEY, secret_key=API_SECRET)\n",
    "\n",
    "    def position_sizing(self):\n",
    "        cash = self.get_cash()\n",
    "        last_price = self.get_last_price(self.symbol)\n",
    "        quantity = round(\n",
    "            cash * self.cash_at_risk / last_price, 0\n",
    "        )  # for each trade we're using 50% of our remaining cash.\n",
    "        return cash, last_price, quantity\n",
    "\n",
    "    def get_dates(self):\n",
    "        today = self.get_datetime()\n",
    "        three_days_prior = today - Timedelta(days=3)\n",
    "        return today.strftime(\"%Y-%m-%d\"), three_days_prior.strftime(\"%Y-%m-%d\")\n",
    "\n",
    "    def get_sentiment(self):\n",
    "        today, three_days_prior = self.get_dates()\n",
    "        news = self.api.get_news(symbol=self.symbol, start=three_days_prior, end=today)\n",
    "        news = [ev.__dict__[\"_raw\"][\"headline\"] for ev in news]\n",
    "        probability, sentiment = estimate_sentiment(news)\n",
    "        return probability, sentiment\n",
    "\n",
    "    def on_trading_iteration(self):\n",
    "        cash, last_price, quantity = self.position_sizing()\n",
    "        probability, sentiment = self.get_sentiment()\n",
    "\n",
    "        if cash > last_price:\n",
    "            if sentiment == \"positive\" and probability > 0.999:\n",
    "                if self.last_trade == \"sell\":\n",
    "                    self.sell_all()\n",
    "                order = self.create_order(\n",
    "                    self.symbol,\n",
    "                    quantity,\n",
    "                    \"buy\",\n",
    "                    type=\"bracket\",\n",
    "                    take_profit_price=last_price * 1.20,\n",
    "                    stop_loss_price=last_price * 0.95,\n",
    "                )\n",
    "                self.submit_order(order)\n",
    "                self.last_trade = \"buy\"\n",
    "            elif sentiment == \"negative\" and probability > 0.999:\n",
    "                if self.last_trade == \"buy\":\n",
    "                    self.sell_all()\n",
    "                order = self.create_order(\n",
    "                    self.symbol,\n",
    "                    quantity,\n",
    "                    \"sell\",\n",
    "                    type=\"bracket\",\n",
    "                    take_profit_price=last_price * 0.8,\n",
    "                    stop_loss_price=last_price * 1.05,\n",
    "                )\n",
    "                self.submit_order(order)\n",
    "                self.last_trade = \"sell\""
   ]
  },
  {
   "cell_type": "code",
   "execution_count": 21,
   "metadata": {},
   "outputs": [
    {
     "name": "stdout",
     "output_type": "stream",
     "text": [
      "Starting backtest for MLTrader...\n",
      "Progress |\u001b[32m\u001b[0m| 100.00%  [Elapsed: 0:00:05 ETA: 0:00:00] Portfolio Val: 99,721.220\n",
      "Creating trades plot...\n"
     ]
    },
    {
     "name": "stderr",
     "output_type": "stream",
     "text": [
      "huggingface/tokenizers: The current process just got forked, after parallelism has already been used. Disabling parallelism to avoid deadlocks...\n",
      "To disable this warning, you can either:\n",
      "\t- Avoid using `tokenizers` before the fork if possible\n",
      "\t- Explicitly set the environment variable TOKENIZERS_PARALLELISM=(true | false)\n"
     ]
    },
    {
     "name": "stdout",
     "output_type": "stream",
     "text": [
      "\n",
      "Creating indicators plot...\n",
      "\n",
      "Creating tearsheet...\n"
     ]
    },
    {
     "name": "stderr",
     "output_type": "stream",
     "text": [
      "huggingface/tokenizers: The current process just got forked, after parallelism has already been used. Disabling parallelism to avoid deadlocks...\n",
      "To disable this warning, you can either:\n",
      "\t- Avoid using `tokenizers` before the fork if possible\n",
      "\t- Explicitly set the environment variable TOKENIZERS_PARALLELISM=(true | false)\n"
     ]
    },
    {
     "data": {
      "text/plain": [
       "{'cagr': -0.06571883664555234,\n",
       " 'volatility': 0.010334664220404055,\n",
       " 'sharpe': -11.400354623463102,\n",
       " 'max_drawdown': {'drawdown': 0.0032012207031251183,\n",
       "  'date': Timestamp('2023-12-28 09:30:00-0500', tz='America/New_York')},\n",
       " 'romad': -20.529305143314808,\n",
       " 'total_return': -0.002787805175781366}"
      ]
     },
     "execution_count": 21,
     "metadata": {},
     "output_type": "execute_result"
    }
   ],
   "source": [
    "start_date = datetime(2023, 12, 15)\n",
    "end_date = datetime(2023, 12, 31)\n",
    "broker = Alpaca(ALPACA_CREDS)\n",
    "strategy = MLTrader(\n",
    "    name=\"mlstrat\", broker=broker, parameters={\"symbol\": \"SPY\", \"cash_at_risk\": 0.5}\n",
    ")\n",
    "\n",
    "strategy.backtest(\n",
    "    YahooDataBacktesting,\n",
    "    start_date,\n",
    "    end_date,\n",
    "    parameters={\"symbol\": \"SPY\", \"cash_at_risk\": 0.5},\n",
    ")"
   ]
  }
 ],
 "metadata": {
  "kernelspec": {
   "display_name": "trader",
   "language": "python",
   "name": "python3"
  },
  "language_info": {
   "codemirror_mode": {
    "name": "ipython",
    "version": 3
   },
   "file_extension": ".py",
   "mimetype": "text/x-python",
   "name": "python",
   "nbconvert_exporter": "python",
   "pygments_lexer": "ipython3",
   "version": "3.10.13"
  }
 },
 "nbformat": 4,
 "nbformat_minor": 2
}
